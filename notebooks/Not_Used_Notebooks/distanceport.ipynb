{
 "cells": [
  {
   "cell_type": "code",
   "execution_count": 2,
   "metadata": {},
   "outputs": [
    {
     "ename": "ImportError",
     "evalue": "dlopen(/opt/anaconda3/envs/capstone/lib/python3.8/site-packages/rasterio/_base.cpython-38-darwin.so, 0x0002): Symbol not found: _ZSTD_compressBound\n  Referenced from: <87EB337A-F684-31F8-942E-00FB8B716C4B> /opt/anaconda3/envs/capstone/lib/libgdal.30.dylib\n  Expected in:     <95E19214-E2B5-305F-8865-4BED3E272C0F> /opt/anaconda3/envs/capstone/lib/libblosc.1.21.5.dylib",
     "output_type": "error",
     "traceback": [
      "\u001b[0;31m---------------------------------------------------------------------------\u001b[0m",
      "\u001b[0;31mImportError\u001b[0m                               Traceback (most recent call last)",
      "Cell \u001b[0;32mIn[2], line 1\u001b[0m\n\u001b[0;32m----> 1\u001b[0m \u001b[38;5;28;01mimport\u001b[39;00m \u001b[38;5;21;01mrasterio\u001b[39;00m\n\u001b[1;32m      3\u001b[0m \u001b[38;5;66;03m# Load the distance from shore raster\u001b[39;00m\n\u001b[1;32m      4\u001b[0m \u001b[38;5;28;01mwith\u001b[39;00m rasterio\u001b[38;5;241m.\u001b[39mopen(\u001b[38;5;124m'\u001b[39m\u001b[38;5;124m/Users/rodrigo/Desktop/BrainStation/Capstone/DATASETSDIF/DistanceFromPort/distance-from-port-v1.TIFF\u001b[39m\u001b[38;5;124m'\u001b[39m) \u001b[38;5;28;01mas\u001b[39;00m src:\n",
      "File \u001b[0;32m/opt/anaconda3/envs/capstone/lib/python3.8/site-packages/rasterio/__init__.py:9\u001b[0m\n\u001b[1;32m      6\u001b[0m \u001b[38;5;28;01mfrom\u001b[39;00m \u001b[38;5;21;01mlogging\u001b[39;00m \u001b[38;5;28;01mimport\u001b[39;00m NullHandler\n\u001b[1;32m      7\u001b[0m \u001b[38;5;28;01mfrom\u001b[39;00m \u001b[38;5;21;01mpathlib\u001b[39;00m \u001b[38;5;28;01mimport\u001b[39;00m Path\n\u001b[0;32m----> 9\u001b[0m \u001b[38;5;28;01mfrom\u001b[39;00m \u001b[38;5;21;01mrasterio\u001b[39;00m\u001b[38;5;21;01m.\u001b[39;00m\u001b[38;5;21;01m_base\u001b[39;00m \u001b[38;5;28;01mimport\u001b[39;00m gdal_version\n\u001b[1;32m     10\u001b[0m \u001b[38;5;28;01mfrom\u001b[39;00m \u001b[38;5;21;01mrasterio\u001b[39;00m\u001b[38;5;21;01m.\u001b[39;00m\u001b[38;5;21;01mdrivers\u001b[39;00m \u001b[38;5;28;01mimport\u001b[39;00m driver_from_extension, is_blacklisted\n\u001b[1;32m     11\u001b[0m \u001b[38;5;28;01mfrom\u001b[39;00m \u001b[38;5;21;01mrasterio\u001b[39;00m\u001b[38;5;21;01m.\u001b[39;00m\u001b[38;5;21;01mdtypes\u001b[39;00m \u001b[38;5;28;01mimport\u001b[39;00m (\n\u001b[1;32m     12\u001b[0m     bool_,\n\u001b[1;32m     13\u001b[0m     ubyte,\n\u001b[0;32m   (...)\u001b[0m\n\u001b[1;32m     25\u001b[0m     check_dtype,\n\u001b[1;32m     26\u001b[0m )\n",
      "\u001b[0;31mImportError\u001b[0m: dlopen(/opt/anaconda3/envs/capstone/lib/python3.8/site-packages/rasterio/_base.cpython-38-darwin.so, 0x0002): Symbol not found: _ZSTD_compressBound\n  Referenced from: <87EB337A-F684-31F8-942E-00FB8B716C4B> /opt/anaconda3/envs/capstone/lib/libgdal.30.dylib\n  Expected in:     <95E19214-E2B5-305F-8865-4BED3E272C0F> /opt/anaconda3/envs/capstone/lib/libblosc.1.21.5.dylib"
     ]
    }
   ],
   "source": [
    "import rasterio\n",
    "\n",
    "# Load the distance from shore raster\n",
    "with rasterio.open('/Users/rodrigo/Desktop/BrainStation/Capstone/DATASETSDIF/DistanceFromPort/distance-from-port-v1.TIFF') as src:\n",
    "    distance_from_shore = src.read(1)\n",
    "    transform_shore = src.transform\n",
    "\n",
    "# Function to get distance from shore based on lat/lon\n",
    "def get_distance_from_shore(lat, lon):\n",
    "    row, col = ~transform_shore * (lon, lat)\n",
    "    return distance_from_shore[int(row), int(col)]\n",
    "\n",
    "\n"
   ]
  },
  {
   "cell_type": "code",
   "execution_count": null,
   "metadata": {},
   "outputs": [],
   "source": []
  }
 ],
 "metadata": {
  "kernelspec": {
   "display_name": "capstone",
   "language": "python",
   "name": "python3"
  },
  "language_info": {
   "codemirror_mode": {
    "name": "ipython",
    "version": 3
   },
   "file_extension": ".py",
   "mimetype": "text/x-python",
   "name": "python",
   "nbconvert_exporter": "python",
   "pygments_lexer": "ipython3",
   "version": "3.8.19"
  }
 },
 "nbformat": 4,
 "nbformat_minor": 2
}
