{
 "cells": [
  {
   "cell_type": "markdown",
   "metadata": {},
   "source": [
    "We are going to create a concatenated data to join this data to the main Data Frame"
   ]
  },
  {
   "cell_type": "markdown",
   "metadata": {},
   "source": [
    "This notebook looks among the AIS ANNONYMIZED Data Set of the global fishing watch **No further Investigation Research and experimentation.**"
   ]
  },
  {
   "cell_type": "code",
   "execution_count": 2,
   "metadata": {},
   "outputs": [],
   "source": [
    "# We import the library\n",
    "import pandas as pd\n",
    "import numpy as np"
   ]
  },
  {
   "cell_type": "code",
   "execution_count": 3,
   "metadata": {},
   "outputs": [],
   "source": [
    "# We read our datasets (We can also run a for loop for this)\n",
    "df_drifting = pd.read_csv('/Users/rodrigo/Desktop/BrainStation/Capstone/DATASETSDIF/Anonymized AIS training data/drifting_longlines.csv')\n",
    "df_fixed_gear = pd.read_csv('/Users/rodrigo/Desktop/BrainStation/Capstone/DATASETSDIF/Anonymized AIS training data/fixed_gear.csv')\n",
    "df_pole_and_line = pd.read_csv('/Users/rodrigo/Desktop/BrainStation/Capstone/DATASETSDIF/Anonymized AIS training data/pole_and_line.csv')\n",
    "df_pursue_seines = pd.read_csv('/Users/rodrigo/Desktop/BrainStation/Capstone/DATASETSDIF/Anonymized AIS training data/purse_seines.csv')\n",
    "df_trawlers = pd.read_csv('/Users/rodrigo/Desktop/BrainStation/Capstone/DATASETSDIF/Anonymized AIS training data/trawlers.csv')\n",
    "df_trollers = pd.read_csv('/Users/rodrigo/Desktop/BrainStation/Capstone/DATASETSDIF/Anonymized AIS training data/trollers.csv')\n",
    "df_unknown = pd.read_csv('/Users/rodrigo/Desktop/BrainStation/Capstone/DATASETSDIF/Anonymized AIS training data/unknown.csv')"
   ]
  },
  {
   "cell_type": "code",
   "execution_count": 4,
   "metadata": {},
   "outputs": [
    {
     "data": {
      "text/plain": [
       "(1545323, 10)"
      ]
     },
     "execution_count": 4,
     "metadata": {},
     "output_type": "execute_result"
    }
   ],
   "source": [
    "df_pursue_seines.shape"
   ]
  },
  {
   "cell_type": "code",
   "execution_count": 5,
   "metadata": {},
   "outputs": [
    {
     "data": {
      "text/html": [
       "<div>\n",
       "<style scoped>\n",
       "    .dataframe tbody tr th:only-of-type {\n",
       "        vertical-align: middle;\n",
       "    }\n",
       "\n",
       "    .dataframe tbody tr th {\n",
       "        vertical-align: top;\n",
       "    }\n",
       "\n",
       "    .dataframe thead th {\n",
       "        text-align: right;\n",
       "    }\n",
       "</style>\n",
       "<table border=\"1\" class=\"dataframe\">\n",
       "  <thead>\n",
       "    <tr style=\"text-align: right;\">\n",
       "      <th></th>\n",
       "      <th>mmsi</th>\n",
       "      <th>timestamp</th>\n",
       "      <th>distance_from_shore</th>\n",
       "      <th>distance_from_port</th>\n",
       "      <th>speed</th>\n",
       "      <th>course</th>\n",
       "      <th>lat</th>\n",
       "      <th>lon</th>\n",
       "      <th>is_fishing</th>\n",
       "      <th>source</th>\n",
       "    </tr>\n",
       "  </thead>\n",
       "  <tbody>\n",
       "    <tr>\n",
       "      <th>0</th>\n",
       "      <td>9.924005e+12</td>\n",
       "      <td>1.379601e+09</td>\n",
       "      <td>0.0</td>\n",
       "      <td>1414.178833</td>\n",
       "      <td>0.0</td>\n",
       "      <td>298.500000</td>\n",
       "      <td>8.861500</td>\n",
       "      <td>-79.668427</td>\n",
       "      <td>-1.0</td>\n",
       "      <td>false_positives</td>\n",
       "    </tr>\n",
       "    <tr>\n",
       "      <th>1</th>\n",
       "      <td>9.924005e+12</td>\n",
       "      <td>1.379602e+09</td>\n",
       "      <td>0.0</td>\n",
       "      <td>1414.178833</td>\n",
       "      <td>0.0</td>\n",
       "      <td>298.500000</td>\n",
       "      <td>8.861506</td>\n",
       "      <td>-79.668442</td>\n",
       "      <td>-1.0</td>\n",
       "      <td>false_positives</td>\n",
       "    </tr>\n",
       "    <tr>\n",
       "      <th>2</th>\n",
       "      <td>9.924005e+12</td>\n",
       "      <td>1.379604e+09</td>\n",
       "      <td>0.0</td>\n",
       "      <td>1414.178833</td>\n",
       "      <td>0.1</td>\n",
       "      <td>128.399994</td>\n",
       "      <td>8.861511</td>\n",
       "      <td>-79.668488</td>\n",
       "      <td>-1.0</td>\n",
       "      <td>false_positives</td>\n",
       "    </tr>\n",
       "    <tr>\n",
       "      <th>3</th>\n",
       "      <td>9.924005e+12</td>\n",
       "      <td>1.379605e+09</td>\n",
       "      <td>0.0</td>\n",
       "      <td>1414.178833</td>\n",
       "      <td>0.1</td>\n",
       "      <td>111.199997</td>\n",
       "      <td>8.861511</td>\n",
       "      <td>-79.668480</td>\n",
       "      <td>-1.0</td>\n",
       "      <td>false_positives</td>\n",
       "    </tr>\n",
       "    <tr>\n",
       "      <th>4</th>\n",
       "      <td>9.924005e+12</td>\n",
       "      <td>1.379608e+09</td>\n",
       "      <td>0.0</td>\n",
       "      <td>1414.178833</td>\n",
       "      <td>0.0</td>\n",
       "      <td>41.700001</td>\n",
       "      <td>8.861502</td>\n",
       "      <td>-79.668503</td>\n",
       "      <td>-1.0</td>\n",
       "      <td>false_positives</td>\n",
       "    </tr>\n",
       "  </tbody>\n",
       "</table>\n",
       "</div>"
      ],
      "text/plain": [
       "           mmsi     timestamp  distance_from_shore  distance_from_port  speed  \\\n",
       "0  9.924005e+12  1.379601e+09                  0.0         1414.178833    0.0   \n",
       "1  9.924005e+12  1.379602e+09                  0.0         1414.178833    0.0   \n",
       "2  9.924005e+12  1.379604e+09                  0.0         1414.178833    0.1   \n",
       "3  9.924005e+12  1.379605e+09                  0.0         1414.178833    0.1   \n",
       "4  9.924005e+12  1.379608e+09                  0.0         1414.178833    0.0   \n",
       "\n",
       "       course       lat        lon  is_fishing           source  \n",
       "0  298.500000  8.861500 -79.668427        -1.0  false_positives  \n",
       "1  298.500000  8.861506 -79.668442        -1.0  false_positives  \n",
       "2  128.399994  8.861511 -79.668488        -1.0  false_positives  \n",
       "3  111.199997  8.861511 -79.668480        -1.0  false_positives  \n",
       "4   41.700001  8.861502 -79.668503        -1.0  false_positives  "
      ]
     },
     "execution_count": 5,
     "metadata": {},
     "output_type": "execute_result"
    }
   ],
   "source": [
    "df_pursue_seines.head()"
   ]
  },
  {
   "cell_type": "code",
   "execution_count": 6,
   "metadata": {},
   "outputs": [
    {
     "data": {
      "text/plain": [
       "is_fishing\n",
       "-1.000000    1522474\n",
       " 0.000000      19737\n",
       " 1.000000       2740\n",
       " 0.666667        155\n",
       " 0.333333        117\n",
       " 0.250000         76\n",
       " 0.750000         24\n",
       "Name: count, dtype: int64"
      ]
     },
     "execution_count": 6,
     "metadata": {},
     "output_type": "execute_result"
    }
   ],
   "source": [
    "df_pursue_seines['is_fishing'].value_counts()"
   ]
  },
  {
   "cell_type": "code",
   "execution_count": 4,
   "metadata": {},
   "outputs": [],
   "source": [
    "# We concatenate the data so we have one big one.\n",
    "files = [df_drifting,df_fixed_gear,df_pole_and_line,df_pursue_seines,df_trawlers,df_trollers,df_unknown]\n",
    "ais_df = pd.concat(files,ignore_index=True)"
   ]
  },
  {
   "cell_type": "code",
   "execution_count": 5,
   "metadata": {},
   "outputs": [
    {
     "data": {
      "text/html": [
       "<div>\n",
       "<style scoped>\n",
       "    .dataframe tbody tr th:only-of-type {\n",
       "        vertical-align: middle;\n",
       "    }\n",
       "\n",
       "    .dataframe tbody tr th {\n",
       "        vertical-align: top;\n",
       "    }\n",
       "\n",
       "    .dataframe thead th {\n",
       "        text-align: right;\n",
       "    }\n",
       "</style>\n",
       "<table border=\"1\" class=\"dataframe\">\n",
       "  <thead>\n",
       "    <tr style=\"text-align: right;\">\n",
       "      <th></th>\n",
       "      <th>mmsi</th>\n",
       "      <th>timestamp</th>\n",
       "      <th>distance_from_shore</th>\n",
       "      <th>distance_from_port</th>\n",
       "      <th>speed</th>\n",
       "      <th>course</th>\n",
       "      <th>lat</th>\n",
       "      <th>lon</th>\n",
       "      <th>is_fishing</th>\n",
       "      <th>source</th>\n",
       "    </tr>\n",
       "  </thead>\n",
       "  <tbody>\n",
       "    <tr>\n",
       "      <th>0</th>\n",
       "      <td>1.263956e+13</td>\n",
       "      <td>1.327137e+09</td>\n",
       "      <td>232994.281250</td>\n",
       "      <td>311748.65625</td>\n",
       "      <td>8.2</td>\n",
       "      <td>230.500000</td>\n",
       "      <td>14.865583</td>\n",
       "      <td>-26.853662</td>\n",
       "      <td>-1.0</td>\n",
       "      <td>dalhousie_longliner</td>\n",
       "    </tr>\n",
       "    <tr>\n",
       "      <th>1</th>\n",
       "      <td>1.263956e+13</td>\n",
       "      <td>1.327137e+09</td>\n",
       "      <td>233994.265625</td>\n",
       "      <td>312410.34375</td>\n",
       "      <td>7.3</td>\n",
       "      <td>238.399994</td>\n",
       "      <td>14.863870</td>\n",
       "      <td>-26.856800</td>\n",
       "      <td>-1.0</td>\n",
       "      <td>dalhousie_longliner</td>\n",
       "    </tr>\n",
       "    <tr>\n",
       "      <th>2</th>\n",
       "      <td>1.263956e+13</td>\n",
       "      <td>1.327137e+09</td>\n",
       "      <td>233994.265625</td>\n",
       "      <td>312410.34375</td>\n",
       "      <td>6.8</td>\n",
       "      <td>238.899994</td>\n",
       "      <td>14.861551</td>\n",
       "      <td>-26.860649</td>\n",
       "      <td>-1.0</td>\n",
       "      <td>dalhousie_longliner</td>\n",
       "    </tr>\n",
       "    <tr>\n",
       "      <th>3</th>\n",
       "      <td>1.263956e+13</td>\n",
       "      <td>1.327143e+09</td>\n",
       "      <td>233994.265625</td>\n",
       "      <td>315417.37500</td>\n",
       "      <td>6.9</td>\n",
       "      <td>251.800003</td>\n",
       "      <td>14.822686</td>\n",
       "      <td>-26.865898</td>\n",
       "      <td>-1.0</td>\n",
       "      <td>dalhousie_longliner</td>\n",
       "    </tr>\n",
       "    <tr>\n",
       "      <th>4</th>\n",
       "      <td>1.263956e+13</td>\n",
       "      <td>1.327143e+09</td>\n",
       "      <td>233996.390625</td>\n",
       "      <td>316172.56250</td>\n",
       "      <td>6.1</td>\n",
       "      <td>231.100006</td>\n",
       "      <td>14.821825</td>\n",
       "      <td>-26.867579</td>\n",
       "      <td>-1.0</td>\n",
       "      <td>dalhousie_longliner</td>\n",
       "    </tr>\n",
       "  </tbody>\n",
       "</table>\n",
       "</div>"
      ],
      "text/plain": [
       "           mmsi     timestamp  distance_from_shore  distance_from_port  speed  \\\n",
       "0  1.263956e+13  1.327137e+09        232994.281250        311748.65625    8.2   \n",
       "1  1.263956e+13  1.327137e+09        233994.265625        312410.34375    7.3   \n",
       "2  1.263956e+13  1.327137e+09        233994.265625        312410.34375    6.8   \n",
       "3  1.263956e+13  1.327143e+09        233994.265625        315417.37500    6.9   \n",
       "4  1.263956e+13  1.327143e+09        233996.390625        316172.56250    6.1   \n",
       "\n",
       "       course        lat        lon  is_fishing               source  \n",
       "0  230.500000  14.865583 -26.853662        -1.0  dalhousie_longliner  \n",
       "1  238.399994  14.863870 -26.856800        -1.0  dalhousie_longliner  \n",
       "2  238.899994  14.861551 -26.860649        -1.0  dalhousie_longliner  \n",
       "3  251.800003  14.822686 -26.865898        -1.0  dalhousie_longliner  \n",
       "4  231.100006  14.821825 -26.867579        -1.0  dalhousie_longliner  "
      ]
     },
     "execution_count": 5,
     "metadata": {},
     "output_type": "execute_result"
    }
   ],
   "source": [
    "ais_df.head()"
   ]
  },
  {
   "cell_type": "code",
   "execution_count": 6,
   "metadata": {},
   "outputs": [
    {
     "data": {
      "text/plain": [
       "(28581398, 10)"
      ]
     },
     "execution_count": 6,
     "metadata": {},
     "output_type": "execute_result"
    }
   ],
   "source": [
    "ais_df.shape"
   ]
  },
  {
   "cell_type": "code",
   "execution_count": 7,
   "metadata": {},
   "outputs": [
    {
     "data": {
      "text/plain": [
       "mmsi                     0\n",
       "timestamp                0\n",
       "distance_from_shore      0\n",
       "distance_from_port       0\n",
       "speed                  202\n",
       "course                 202\n",
       "lat                      0\n",
       "lon                      0\n",
       "is_fishing               0\n",
       "source                   0\n",
       "dtype: int64"
      ]
     },
     "execution_count": 7,
     "metadata": {},
     "output_type": "execute_result"
    }
   ],
   "source": [
    "# Checcking for missing data\n",
    "ais_df.isnull().sum()"
   ]
  },
  {
   "cell_type": "markdown",
   "metadata": {},
   "source": [
    "Since we have so little null values we can drop them"
   ]
  },
  {
   "cell_type": "code",
   "execution_count": 8,
   "metadata": {},
   "outputs": [],
   "source": [
    "ais_df = ais_df.dropna()"
   ]
  },
  {
   "cell_type": "code",
   "execution_count": 9,
   "metadata": {},
   "outputs": [
    {
     "data": {
      "text/plain": [
       "mmsi                   0\n",
       "timestamp              0\n",
       "distance_from_shore    0\n",
       "distance_from_port     0\n",
       "speed                  0\n",
       "course                 0\n",
       "lat                    0\n",
       "lon                    0\n",
       "is_fishing             0\n",
       "source                 0\n",
       "dtype: int64"
      ]
     },
     "execution_count": 9,
     "metadata": {},
     "output_type": "execute_result"
    }
   ],
   "source": [
    "#Sanity Check\n",
    "ais_df.isna().sum()"
   ]
  },
  {
   "cell_type": "code",
   "execution_count": 10,
   "metadata": {},
   "outputs": [
    {
     "data": {
      "text/plain": [
       "0"
      ]
     },
     "execution_count": 10,
     "metadata": {},
     "output_type": "execute_result"
    }
   ],
   "source": [
    "ais_df.duplicated().sum()"
   ]
  },
  {
   "cell_type": "code",
   "execution_count": 11,
   "metadata": {},
   "outputs": [
    {
     "name": "stdout",
     "output_type": "stream",
     "text": [
      "<class 'pandas.core.frame.DataFrame'>\n",
      "Index: 28581196 entries, 0 to 28581397\n",
      "Data columns (total 10 columns):\n",
      " #   Column               Dtype  \n",
      "---  ------               -----  \n",
      " 0   mmsi                 float64\n",
      " 1   timestamp            float64\n",
      " 2   distance_from_shore  float64\n",
      " 3   distance_from_port   float64\n",
      " 4   speed                float64\n",
      " 5   course               float64\n",
      " 6   lat                  float64\n",
      " 7   lon                  float64\n",
      " 8   is_fishing           float64\n",
      " 9   source               object \n",
      "dtypes: float64(9), object(1)\n",
      "memory usage: 2.3+ GB\n"
     ]
    }
   ],
   "source": [
    "ais_df.info()"
   ]
  },
  {
   "cell_type": "code",
   "execution_count": 12,
   "metadata": {},
   "outputs": [],
   "source": [
    "# Last thing, we need to change the timestamp, we are going to change it to secs\n",
    "ais_df['timestamp'] = pd.to_datetime(ais_df['timestamp'],unit='s')"
   ]
  },
  {
   "cell_type": "code",
   "execution_count": 13,
   "metadata": {},
   "outputs": [
    {
     "name": "stdout",
     "output_type": "stream",
     "text": [
      "<class 'pandas.core.frame.DataFrame'>\n",
      "Index: 28581196 entries, 0 to 28581397\n",
      "Data columns (total 10 columns):\n",
      " #   Column               Dtype         \n",
      "---  ------               -----         \n",
      " 0   mmsi                 float64       \n",
      " 1   timestamp            datetime64[ns]\n",
      " 2   distance_from_shore  float64       \n",
      " 3   distance_from_port   float64       \n",
      " 4   speed                float64       \n",
      " 5   course               float64       \n",
      " 6   lat                  float64       \n",
      " 7   lon                  float64       \n",
      " 8   is_fishing           float64       \n",
      " 9   source               object        \n",
      "dtypes: datetime64[ns](1), float64(8), object(1)\n",
      "memory usage: 2.3+ GB\n"
     ]
    }
   ],
   "source": [
    "ais_df.info()"
   ]
  },
  {
   "cell_type": "code",
   "execution_count": 14,
   "metadata": {},
   "outputs": [],
   "source": [
    "\n"
   ]
  },
  {
   "cell_type": "code",
   "execution_count": 15,
   "metadata": {},
   "outputs": [
    {
     "data": {
      "text/html": [
       "<div>\n",
       "<style scoped>\n",
       "    .dataframe tbody tr th:only-of-type {\n",
       "        vertical-align: middle;\n",
       "    }\n",
       "\n",
       "    .dataframe tbody tr th {\n",
       "        vertical-align: top;\n",
       "    }\n",
       "\n",
       "    .dataframe thead th {\n",
       "        text-align: right;\n",
       "    }\n",
       "</style>\n",
       "<table border=\"1\" class=\"dataframe\">\n",
       "  <thead>\n",
       "    <tr style=\"text-align: right;\">\n",
       "      <th></th>\n",
       "      <th>vessel_id</th>\n",
       "      <th>timestamp</th>\n",
       "      <th>distance_from_shore_m</th>\n",
       "      <th>distance_from_port_m</th>\n",
       "      <th>speed_knots</th>\n",
       "      <th>course</th>\n",
       "      <th>latitude</th>\n",
       "      <th>longitude</th>\n",
       "      <th>is_fishing</th>\n",
       "      <th>source</th>\n",
       "    </tr>\n",
       "  </thead>\n",
       "  <tbody>\n",
       "    <tr>\n",
       "      <th>0</th>\n",
       "      <td>1.263956e+13</td>\n",
       "      <td>2012-01-21 09:01:44</td>\n",
       "      <td>232994.281250</td>\n",
       "      <td>311748.65625</td>\n",
       "      <td>8.2</td>\n",
       "      <td>230.500000</td>\n",
       "      <td>14.865583</td>\n",
       "      <td>-26.853662</td>\n",
       "      <td>-1.0</td>\n",
       "      <td>dalhousie_longliner</td>\n",
       "    </tr>\n",
       "    <tr>\n",
       "      <th>1</th>\n",
       "      <td>1.263956e+13</td>\n",
       "      <td>2012-01-21 09:03:25</td>\n",
       "      <td>233994.265625</td>\n",
       "      <td>312410.34375</td>\n",
       "      <td>7.3</td>\n",
       "      <td>238.399994</td>\n",
       "      <td>14.863870</td>\n",
       "      <td>-26.856800</td>\n",
       "      <td>-1.0</td>\n",
       "      <td>dalhousie_longliner</td>\n",
       "    </tr>\n",
       "    <tr>\n",
       "      <th>2</th>\n",
       "      <td>1.263956e+13</td>\n",
       "      <td>2012-01-21 09:05:34</td>\n",
       "      <td>233994.265625</td>\n",
       "      <td>312410.34375</td>\n",
       "      <td>6.8</td>\n",
       "      <td>238.899994</td>\n",
       "      <td>14.861551</td>\n",
       "      <td>-26.860649</td>\n",
       "      <td>-1.0</td>\n",
       "      <td>dalhousie_longliner</td>\n",
       "    </tr>\n",
       "    <tr>\n",
       "      <th>3</th>\n",
       "      <td>1.263956e+13</td>\n",
       "      <td>2012-01-21 10:54:41</td>\n",
       "      <td>233994.265625</td>\n",
       "      <td>315417.37500</td>\n",
       "      <td>6.9</td>\n",
       "      <td>251.800003</td>\n",
       "      <td>14.822686</td>\n",
       "      <td>-26.865898</td>\n",
       "      <td>-1.0</td>\n",
       "      <td>dalhousie_longliner</td>\n",
       "    </tr>\n",
       "    <tr>\n",
       "      <th>4</th>\n",
       "      <td>1.263956e+13</td>\n",
       "      <td>2012-01-21 10:55:41</td>\n",
       "      <td>233996.390625</td>\n",
       "      <td>316172.56250</td>\n",
       "      <td>6.1</td>\n",
       "      <td>231.100006</td>\n",
       "      <td>14.821825</td>\n",
       "      <td>-26.867579</td>\n",
       "      <td>-1.0</td>\n",
       "      <td>dalhousie_longliner</td>\n",
       "    </tr>\n",
       "  </tbody>\n",
       "</table>\n",
       "</div>"
      ],
      "text/plain": [
       "      vessel_id           timestamp  distance_from_shore_m  \\\n",
       "0  1.263956e+13 2012-01-21 09:01:44          232994.281250   \n",
       "1  1.263956e+13 2012-01-21 09:03:25          233994.265625   \n",
       "2  1.263956e+13 2012-01-21 09:05:34          233994.265625   \n",
       "3  1.263956e+13 2012-01-21 10:54:41          233994.265625   \n",
       "4  1.263956e+13 2012-01-21 10:55:41          233996.390625   \n",
       "\n",
       "   distance_from_port_m  speed_knots      course   latitude  longitude  \\\n",
       "0          311748.65625          8.2  230.500000  14.865583 -26.853662   \n",
       "1          312410.34375          7.3  238.399994  14.863870 -26.856800   \n",
       "2          312410.34375          6.8  238.899994  14.861551 -26.860649   \n",
       "3          315417.37500          6.9  251.800003  14.822686 -26.865898   \n",
       "4          316172.56250          6.1  231.100006  14.821825 -26.867579   \n",
       "\n",
       "   is_fishing               source  \n",
       "0        -1.0  dalhousie_longliner  \n",
       "1        -1.0  dalhousie_longliner  \n",
       "2        -1.0  dalhousie_longliner  \n",
       "3        -1.0  dalhousie_longliner  \n",
       "4        -1.0  dalhousie_longliner  "
      ]
     },
     "execution_count": 15,
     "metadata": {},
     "output_type": "execute_result"
    }
   ],
   "source": [
    "ais_df.head()"
   ]
  }
 ],
 "metadata": {
  "kernelspec": {
   "display_name": "capstone",
   "language": "python",
   "name": "python3"
  },
  "language_info": {
   "codemirror_mode": {
    "name": "ipython",
    "version": 3
   },
   "file_extension": ".py",
   "mimetype": "text/x-python",
   "name": "python",
   "nbconvert_exporter": "python",
   "pygments_lexer": "ipython3",
   "version": "3.8.15"
  }
 },
 "nbformat": 4,
 "nbformat_minor": 2
}
