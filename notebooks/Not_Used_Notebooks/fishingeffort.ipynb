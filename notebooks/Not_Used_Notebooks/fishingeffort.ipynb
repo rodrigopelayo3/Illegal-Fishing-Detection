{
 "cells": [
  {
   "cell_type": "markdown",
   "metadata": {},
   "source": [
    "## This notebook looks among the Encouters Data Set of the global fishing watch No further Investigation Research and experimentation.This dataset could tell us posibilities to go further in"
   ]
  },
  {
   "cell_type": "code",
   "execution_count": 4,
   "metadata": {},
   "outputs": [
    {
     "name": "stdout",
     "output_type": "stream",
     "text": [
      "         date  cell_ll_lat  cell_ll_lon       mmsi   hours  fishing_hours\n",
      "0  2018-09-19          0.0          1.1  224286000  5.1133         5.1133\n",
      "1  2018-09-19          0.0          1.2  224286000  0.4855         0.4855\n",
      "2  2018-09-19          0.0        -21.6  224308000  0.7086         0.7086\n",
      "3  2018-09-19          0.0       -126.1  412110175  1.0350         0.0000\n",
      "4  2018-09-19          0.0        169.9  412371222  0.2416         0.0000\n",
      "<class 'pandas.core.frame.DataFrame'>\n",
      "RangeIndex: 157960469 entries, 0 to 157960468\n",
      "Data columns (total 6 columns):\n",
      " #   Column         Dtype  \n",
      "---  ------         -----  \n",
      " 0   date           object \n",
      " 1   cell_ll_lat    float64\n",
      " 2   cell_ll_lon    float64\n",
      " 3   mmsi           int64  \n",
      " 4   hours          float64\n",
      " 5   fishing_hours  float64\n",
      "dtypes: float64(4), int64(1), object(1)\n",
      "memory usage: 7.1+ GB\n",
      "None\n"
     ]
    }
   ],
   "source": [
    "import pandas as pd\n",
    "import glob\n",
    "\n",
    "# Define the base path to the Fishing Effort data folders\n",
    "base_path = '/Users/rodrigo/Desktop/BrainStation/Capstone/DATASETSDIF/Fishing Effort/'\n",
    "\n",
    "# Define the folders for each year\n",
    "years = ['2018', '2019']\n",
    "\n",
    "# List to hold DataFrames\n",
    "dfs = []\n",
    "\n",
    "# Loop through each year and each file in the year\n",
    "for year in years:\n",
    "    path = base_path + year + '/*.csv'\n",
    "    files = glob.glob(path)\n",
    "    \n",
    "    # Load each file and append to the list\n",
    "    for file in files:\n",
    "        df = pd.read_csv(file)\n",
    "        dfs.append(df)\n",
    "\n",
    "# Concatenate all DataFrames in the list\n",
    "fishing_effort_df = pd.concat(dfs, ignore_index=True)\n",
    "\n",
    "# Display the first few rows to confirm successful loading\n",
    "print(fishing_effort_df.head())\n",
    "print(fishing_effort_df.info())  # To check the structure and memory usage\n"
   ]
  },
  {
   "cell_type": "code",
   "execution_count": 5,
   "metadata": {},
   "outputs": [
    {
     "name": "stdout",
     "output_type": "stream",
     "text": [
      "\n",
      "Missing values in Fishing Effort Dataset:\n",
      "date             0\n",
      "cell_ll_lat      0\n",
      "cell_ll_lon      0\n",
      "mmsi             0\n",
      "hours            0\n",
      "fishing_hours    0\n",
      "dtype: int64\n",
      "\n",
      "Data types in Fishing Effort Dataset:\n",
      "date              object\n",
      "cell_ll_lat      float64\n",
      "cell_ll_lon      float64\n",
      "mmsi               int64\n",
      "hours            float64\n",
      "fishing_hours    float64\n",
      "dtype: object\n"
     ]
    }
   ],
   "source": [
    "# Check for missing values in the dataframe\n",
    "print(\"\\nMissing values in Fishing Effort Dataset:\")\n",
    "print(fishing_effort_df.isnull().sum())\n",
    "\n",
    "# Check the data types in the dataframe\n",
    "print(\"\\nData types in Fishing Effort Dataset:\")\n",
    "print(fishing_effort_df.dtypes)\n",
    "\n"
   ]
  },
  {
   "cell_type": "code",
   "execution_count": 6,
   "metadata": {},
   "outputs": [
    {
     "name": "stdout",
     "output_type": "stream",
     "text": [
      "\n",
      "Data types after converting 'date' to datetime:\n",
      "date             datetime64[ns]\n",
      "cell_ll_lat             float64\n",
      "cell_ll_lon             float64\n",
      "mmsi                      int64\n",
      "hours                   float64\n",
      "fishing_hours           float64\n",
      "dtype: object\n"
     ]
    }
   ],
   "source": [
    "# Convert 'date' column to datetime format\n",
    "fishing_effort_df['date'] = pd.to_datetime(fishing_effort_df['date'])\n",
    "\n",
    "# Verify the conversion\n",
    "print(\"\\nData types after converting 'date' to datetime:\")\n",
    "print(fishing_effort_df.dtypes)\n"
   ]
  },
  {
   "cell_type": "code",
   "execution_count": 7,
   "metadata": {},
   "outputs": [
    {
     "name": "stdout",
     "output_type": "stream",
     "text": [
      "\n",
      "Data saved to 'integrated_fishing_effort_data.csv'\n"
     ]
    }
   ],
   "source": [
    "# Save the cleaned and processed dataset\n",
    "fishing_effort_df.to_csv('/Users/rodrigo/Desktop/BrainStation/Capstone/DATASETSDIF/integrated_fishing_effort_data.csv', index=False)\n",
    "print(\"\\nData saved to 'integrated_fishing_effort_data.csv'\")\n"
   ]
  },
  {
   "cell_type": "code",
   "execution_count": 2,
   "metadata": {},
   "outputs": [
    {
     "data": {
      "text/plain": [
       "(201625996, 6)"
      ]
     },
     "execution_count": 2,
     "metadata": {},
     "output_type": "execute_result"
    }
   ],
   "source": [
    "fishing_effort_df.shape"
   ]
  },
  {
   "cell_type": "code",
   "execution_count": 3,
   "metadata": {},
   "outputs": [
    {
     "name": "stdout",
     "output_type": "stream",
     "text": [
      "(2016260, 6)\n",
      "                 date  cell_ll_lat  cell_ll_lon       mmsi   hours  \\\n",
      "172137040  2020-11-20         -8.2         48.3  416771000  1.9199   \n",
      "9359210    2017-03-14          2.6        159.6  416127500  2.0833   \n",
      "180914847  2020-04-27         39.9         22.7  237889000  6.8997   \n",
      "48734583   2018-02-07         42.1         15.4  247151810  1.5000   \n",
      "193325505  2020-10-25         23.4       -156.6  367761510  0.0000   \n",
      "\n",
      "           fishing_hours  \n",
      "172137040         1.4049  \n",
      "9359210           2.0833  \n",
      "180914847         6.8997  \n",
      "48734583          1.5000  \n",
      "193325505         0.0000  \n"
     ]
    }
   ],
   "source": [
    "# We are going to sample the data due to ots size\n",
    "# Sample 1% of the data\n",
    "sampled_fishing_effort_df = fishing_effort_df.sample(frac=0.01, random_state=42)\n",
    "\n",
    "# Display the shape of the sampled data\n",
    "print(sampled_fishing_effort_df.shape)\n",
    "\n",
    "# Display the first few rows of the sampled data\n",
    "print(sampled_fishing_effort_df.head())\n"
   ]
  },
  {
   "cell_type": "code",
   "execution_count": 4,
   "metadata": {},
   "outputs": [],
   "source": [
    "# Save the sampled data to a CSV file\n",
    "sampled_fishing_effort_df.to_csv('/Users/rodrigo/Desktop/BrainStation/Capstone/DATASETSDIF/Fishing Effort/sampled_fishing_effort.csv', index=False)\n"
   ]
  },
  {
   "cell_type": "code",
   "execution_count": 5,
   "metadata": {},
   "outputs": [
    {
     "name": "stdout",
     "output_type": "stream",
     "text": [
      "         date  cell_ll_lat  cell_ll_lon       mmsi   hours  fishing_hours\n",
      "0  2020-11-20         -8.2         48.3  416771000  1.9199         1.4049\n",
      "1  2017-03-14          2.6        159.6  416127500  2.0833         2.0833\n",
      "2  2020-04-27         39.9         22.7  237889000  6.8997         6.8997\n",
      "3  2018-02-07         42.1         15.4  247151810  1.5000         1.5000\n",
      "4  2020-10-25         23.4       -156.6  367761510  0.0000         0.0000\n",
      "<class 'pandas.core.frame.DataFrame'>\n",
      "RangeIndex: 2016260 entries, 0 to 2016259\n",
      "Data columns (total 6 columns):\n",
      " #   Column         Dtype  \n",
      "---  ------         -----  \n",
      " 0   date           object \n",
      " 1   cell_ll_lat    float64\n",
      " 2   cell_ll_lon    float64\n",
      " 3   mmsi           int64  \n",
      " 4   hours          float64\n",
      " 5   fishing_hours  float64\n",
      "dtypes: float64(4), int64(1), object(1)\n",
      "memory usage: 92.3+ MB\n",
      "None\n"
     ]
    }
   ],
   "source": [
    "# Load the sampled data\n",
    "sampled_fishing_effort_df = pd.read_csv('/Users/rodrigo/Desktop/BrainStation/Capstone/DATASETSDIF/Fishing Effort/sampled_fishing_effort.csv')\n",
    "\n",
    "# Display the first few rows to confirm successful loading\n",
    "print(sampled_fishing_effort_df.head())\n",
    "\n",
    "# Display information about the dataset\n",
    "print(sampled_fishing_effort_df.info())\n"
   ]
  },
  {
   "cell_type": "code",
   "execution_count": 6,
   "metadata": {},
   "outputs": [
    {
     "name": "stdout",
     "output_type": "stream",
     "text": [
      "        cell_ll_lat   cell_ll_lon          mmsi         hours  fishing_hours\n",
      "count  2.016260e+06  2.016260e+06  2.016260e+06  2.016260e+06   2.016260e+06\n",
      "mean   2.629487e+01  3.568766e+01  3.815416e+08  2.981858e+00   9.807890e-01\n",
      "std    3.068595e+01  9.511689e+01  1.533231e+08  5.435795e+00   2.467356e+00\n",
      "min   -7.800000e+01 -1.800000e+02  1.280000e+02  0.000000e+00   0.000000e+00\n",
      "25%    6.000000e+00 -1.360000e+01  2.571010e+08  4.236000e-01   0.000000e+00\n",
      "50%    3.480000e+01  2.010000e+01  4.123242e+08  8.133000e-01   0.000000e+00\n",
      "75%    4.830000e+01  1.211000e+02  4.162476e+08  2.389700e+00   8.933000e-01\n",
      "max    8.210000e+01  1.799000e+02  1.012475e+09  4.730220e+01   4.501270e+01\n",
      "<class 'pandas.core.frame.DataFrame'>\n",
      "RangeIndex: 2016260 entries, 0 to 2016259\n",
      "Data columns (total 6 columns):\n",
      " #   Column         Dtype  \n",
      "---  ------         -----  \n",
      " 0   date           object \n",
      " 1   cell_ll_lat    float64\n",
      " 2   cell_ll_lon    float64\n",
      " 3   mmsi           int64  \n",
      " 4   hours          float64\n",
      " 5   fishing_hours  float64\n",
      "dtypes: float64(4), int64(1), object(1)\n",
      "memory usage: 92.3+ MB\n",
      "None\n",
      "date             0\n",
      "cell_ll_lat      0\n",
      "cell_ll_lon      0\n",
      "mmsi             0\n",
      "hours            0\n",
      "fishing_hours    0\n",
      "dtype: int64\n"
     ]
    }
   ],
   "source": [
    "# Display summary statistics\n",
    "print(sampled_fishing_effort_df.describe())\n",
    "\n",
    "# Display information about the dataset\n",
    "print(sampled_fishing_effort_df.info())\n",
    "\n",
    "# Check for missing values\n",
    "missing_values_fishing_effort = sampled_fishing_effort_df.isnull().sum()\n",
    "print(missing_values_fishing_effort)\n"
   ]
  },
  {
   "cell_type": "code",
   "execution_count": 7,
   "metadata": {},
   "outputs": [],
   "source": [
    "# Optionally, drop rows with missing critical values or fill them with appropriate values\n",
    "sampled_fishing_effort_df.dropna(inplace=True)\n"
   ]
  },
  {
   "cell_type": "code",
   "execution_count": 8,
   "metadata": {},
   "outputs": [],
   "source": [
    "# Standardize column names (adjust as needed based on your specific dataset)\n",
    "sampled_fishing_effort_df.rename(columns={\n",
    "    'mmsi': 'vessel_id',\n",
    "    'timestamp': 'timestamp',\n",
    "    'lat': 'latitude',\n",
    "    'lon': 'longitude',\n",
    "    'effort_hours': 'effort_hours',  # Assuming 'effort_hours' is one of the columns\n",
    "    'fishing_type': 'fishing_type'  # Adjust based on actual column names\n",
    "}, inplace=True)\n"
   ]
  },
  {
   "cell_type": "code",
   "execution_count": 11,
   "metadata": {},
   "outputs": [
    {
     "ename": "KeyError",
     "evalue": "'timestamp'",
     "output_type": "error",
     "traceback": [
      "\u001b[0;31m---------------------------------------------------------------------------\u001b[0m",
      "\u001b[0;31mKeyError\u001b[0m                                  Traceback (most recent call last)",
      "File \u001b[0;32m/opt/anaconda3/envs/capstone/lib/python3.8/site-packages/pandas/core/indexes/base.py:3653\u001b[0m, in \u001b[0;36mIndex.get_loc\u001b[0;34m(self, key)\u001b[0m\n\u001b[1;32m   3652\u001b[0m \u001b[38;5;28;01mtry\u001b[39;00m:\n\u001b[0;32m-> 3653\u001b[0m     \u001b[38;5;28;01mreturn\u001b[39;00m \u001b[38;5;28;43mself\u001b[39;49m\u001b[38;5;241;43m.\u001b[39;49m\u001b[43m_engine\u001b[49m\u001b[38;5;241;43m.\u001b[39;49m\u001b[43mget_loc\u001b[49m\u001b[43m(\u001b[49m\u001b[43mcasted_key\u001b[49m\u001b[43m)\u001b[49m\n\u001b[1;32m   3654\u001b[0m \u001b[38;5;28;01mexcept\u001b[39;00m \u001b[38;5;167;01mKeyError\u001b[39;00m \u001b[38;5;28;01mas\u001b[39;00m err:\n",
      "File \u001b[0;32m/opt/anaconda3/envs/capstone/lib/python3.8/site-packages/pandas/_libs/index.pyx:147\u001b[0m, in \u001b[0;36mpandas._libs.index.IndexEngine.get_loc\u001b[0;34m()\u001b[0m\n",
      "File \u001b[0;32m/opt/anaconda3/envs/capstone/lib/python3.8/site-packages/pandas/_libs/index.pyx:176\u001b[0m, in \u001b[0;36mpandas._libs.index.IndexEngine.get_loc\u001b[0;34m()\u001b[0m\n",
      "File \u001b[0;32mpandas/_libs/hashtable_class_helper.pxi:7080\u001b[0m, in \u001b[0;36mpandas._libs.hashtable.PyObjectHashTable.get_item\u001b[0;34m()\u001b[0m\n",
      "File \u001b[0;32mpandas/_libs/hashtable_class_helper.pxi:7088\u001b[0m, in \u001b[0;36mpandas._libs.hashtable.PyObjectHashTable.get_item\u001b[0;34m()\u001b[0m\n",
      "\u001b[0;31mKeyError\u001b[0m: 'timestamp'",
      "\nThe above exception was the direct cause of the following exception:\n",
      "\u001b[0;31mKeyError\u001b[0m                                  Traceback (most recent call last)",
      "Cell \u001b[0;32mIn[11], line 2\u001b[0m\n\u001b[1;32m      1\u001b[0m \u001b[38;5;66;03m# Convert timestamp to datetime format\u001b[39;00m\n\u001b[0;32m----> 2\u001b[0m sampled_fishing_effort_df[\u001b[38;5;124m'\u001b[39m\u001b[38;5;124mtimestamp\u001b[39m\u001b[38;5;124m'\u001b[39m] \u001b[38;5;241m=\u001b[39m pd\u001b[38;5;241m.\u001b[39mto_datetime(\u001b[43msampled_fishing_effort_df\u001b[49m\u001b[43m[\u001b[49m\u001b[38;5;124;43m'\u001b[39;49m\u001b[38;5;124;43mtimestamp\u001b[39;49m\u001b[38;5;124;43m'\u001b[39;49m\u001b[43m]\u001b[49m)\n\u001b[1;32m      4\u001b[0m \u001b[38;5;66;03m# Optionally, extract additional time-based features\u001b[39;00m\n\u001b[1;32m      5\u001b[0m sampled_fishing_effort_df[\u001b[38;5;124m'\u001b[39m\u001b[38;5;124myear\u001b[39m\u001b[38;5;124m'\u001b[39m] \u001b[38;5;241m=\u001b[39m sampled_fishing_effort_df[\u001b[38;5;124m'\u001b[39m\u001b[38;5;124mtimestamp\u001b[39m\u001b[38;5;124m'\u001b[39m]\u001b[38;5;241m.\u001b[39mdt\u001b[38;5;241m.\u001b[39myear\n",
      "File \u001b[0;32m/opt/anaconda3/envs/capstone/lib/python3.8/site-packages/pandas/core/frame.py:3761\u001b[0m, in \u001b[0;36mDataFrame.__getitem__\u001b[0;34m(self, key)\u001b[0m\n\u001b[1;32m   3759\u001b[0m \u001b[38;5;28;01mif\u001b[39;00m \u001b[38;5;28mself\u001b[39m\u001b[38;5;241m.\u001b[39mcolumns\u001b[38;5;241m.\u001b[39mnlevels \u001b[38;5;241m>\u001b[39m \u001b[38;5;241m1\u001b[39m:\n\u001b[1;32m   3760\u001b[0m     \u001b[38;5;28;01mreturn\u001b[39;00m \u001b[38;5;28mself\u001b[39m\u001b[38;5;241m.\u001b[39m_getitem_multilevel(key)\n\u001b[0;32m-> 3761\u001b[0m indexer \u001b[38;5;241m=\u001b[39m \u001b[38;5;28;43mself\u001b[39;49m\u001b[38;5;241;43m.\u001b[39;49m\u001b[43mcolumns\u001b[49m\u001b[38;5;241;43m.\u001b[39;49m\u001b[43mget_loc\u001b[49m\u001b[43m(\u001b[49m\u001b[43mkey\u001b[49m\u001b[43m)\u001b[49m\n\u001b[1;32m   3762\u001b[0m \u001b[38;5;28;01mif\u001b[39;00m is_integer(indexer):\n\u001b[1;32m   3763\u001b[0m     indexer \u001b[38;5;241m=\u001b[39m [indexer]\n",
      "File \u001b[0;32m/opt/anaconda3/envs/capstone/lib/python3.8/site-packages/pandas/core/indexes/base.py:3655\u001b[0m, in \u001b[0;36mIndex.get_loc\u001b[0;34m(self, key)\u001b[0m\n\u001b[1;32m   3653\u001b[0m     \u001b[38;5;28;01mreturn\u001b[39;00m \u001b[38;5;28mself\u001b[39m\u001b[38;5;241m.\u001b[39m_engine\u001b[38;5;241m.\u001b[39mget_loc(casted_key)\n\u001b[1;32m   3654\u001b[0m \u001b[38;5;28;01mexcept\u001b[39;00m \u001b[38;5;167;01mKeyError\u001b[39;00m \u001b[38;5;28;01mas\u001b[39;00m err:\n\u001b[0;32m-> 3655\u001b[0m     \u001b[38;5;28;01mraise\u001b[39;00m \u001b[38;5;167;01mKeyError\u001b[39;00m(key) \u001b[38;5;28;01mfrom\u001b[39;00m \u001b[38;5;21;01merr\u001b[39;00m\n\u001b[1;32m   3656\u001b[0m \u001b[38;5;28;01mexcept\u001b[39;00m \u001b[38;5;167;01mTypeError\u001b[39;00m:\n\u001b[1;32m   3657\u001b[0m     \u001b[38;5;66;03m# If we have a listlike key, _check_indexing_error will raise\u001b[39;00m\n\u001b[1;32m   3658\u001b[0m     \u001b[38;5;66;03m#  InvalidIndexError. Otherwise we fall through and re-raise\u001b[39;00m\n\u001b[1;32m   3659\u001b[0m     \u001b[38;5;66;03m#  the TypeError.\u001b[39;00m\n\u001b[1;32m   3660\u001b[0m     \u001b[38;5;28mself\u001b[39m\u001b[38;5;241m.\u001b[39m_check_indexing_error(key)\n",
      "\u001b[0;31mKeyError\u001b[0m: 'timestamp'"
     ]
    }
   ],
   "source": [
    "# Convert timestamp to datetime format\n",
    "sampled_fishing_effort_df['timestamp'] = pd.to_datetime(sampled_fishing_effort_df['timestamp'])\n",
    "\n",
    "# Optionally, extract additional time-based features\n",
    "sampled_fishing_effort_df['year'] = sampled_fishing_effort_df['timestamp'].dt.year\n",
    "sampled_fishing_effort_df['month'] = sampled_fishing_effort_df['timestamp'].dt.month\n",
    "sampled_fishing_effort_df['day'] = sampled_fishing_effort_df['timestamp'].dt.day\n"
   ]
  },
  {
   "cell_type": "code",
   "execution_count": 12,
   "metadata": {},
   "outputs": [
    {
     "name": "stdout",
     "output_type": "stream",
     "text": [
      "Index(['date', 'cell_ll_lat', 'cell_ll_lon', 'vessel_id', 'hours',\n",
      "       'fishing_hours'],\n",
      "      dtype='object')\n"
     ]
    }
   ],
   "source": [
    "# Inspect the column names of the sampled dataset\n",
    "print(sampled_fishing_effort_df.columns)\n"
   ]
  },
  {
   "cell_type": "code",
   "execution_count": 13,
   "metadata": {},
   "outputs": [],
   "source": [
    "# Convert 'date' to datetime format\n",
    "sampled_fishing_effort_df['date'] = pd.to_datetime(sampled_fishing_effort_df['date'])\n",
    "\n",
    "# Optionally, extract additional time-based features\n",
    "sampled_fishing_effort_df['year'] = sampled_fishing_effort_df['date'].dt.year\n",
    "sampled_fishing_effort_df['month'] = sampled_fishing_effort_df['date'].dt.month\n",
    "sampled_fishing_effort_df['day'] = sampled_fishing_effort_df['date'].dt.day\n"
   ]
  },
  {
   "cell_type": "code",
   "execution_count": 14,
   "metadata": {},
   "outputs": [
    {
     "name": "stdout",
     "output_type": "stream",
     "text": [
      "   timestamp  latitude  longitude  vessel_id  effort_hours  fishing_hours  \\\n",
      "0 2020-11-20      -8.2       48.3  416771000        1.9199         1.4049   \n",
      "1 2017-03-14       2.6      159.6  416127500        2.0833         2.0833   \n",
      "2 2020-04-27      39.9       22.7  237889000        6.8997         6.8997   \n",
      "3 2018-02-07      42.1       15.4  247151810        1.5000         1.5000   \n",
      "4 2020-10-25      23.4     -156.6  367761510        0.0000         0.0000   \n",
      "\n",
      "   year  month  day  \n",
      "0  2020     11   20  \n",
      "1  2017      3   14  \n",
      "2  2020      4   27  \n",
      "3  2018      2    7  \n",
      "4  2020     10   25  \n"
     ]
    }
   ],
   "source": [
    "# Standardize column names\n",
    "sampled_fishing_effort_df.rename(columns={\n",
    "    'vessel_id': 'vessel_id',\n",
    "    'date': 'timestamp',\n",
    "    'cell_ll_lat': 'latitude',\n",
    "    'cell_ll_lon': 'longitude',\n",
    "    'hours': 'effort_hours',\n",
    "    'fishing_hours': 'fishing_hours'\n",
    "}, inplace=True)\n",
    "\n",
    "# Confirm changes\n",
    "print(sampled_fishing_effort_df.head())\n"
   ]
  },
  {
   "cell_type": "code",
   "execution_count": 15,
   "metadata": {},
   "outputs": [],
   "source": [
    "# Save the cleaned data to a CSV file\n",
    "sampled_fishing_effort_df.to_csv('/Users/rodrigo/Desktop/BrainStation/Capstone/DATASETSDIF/Fishing Effort/cleaned_sampled_fishing_effort.csv', index=False)\n"
   ]
  }
 ],
 "metadata": {
  "kernelspec": {
   "display_name": "capstone",
   "language": "python",
   "name": "python3"
  },
  "language_info": {
   "codemirror_mode": {
    "name": "ipython",
    "version": 3
   },
   "file_extension": ".py",
   "mimetype": "text/x-python",
   "name": "python",
   "nbconvert_exporter": "python",
   "pygments_lexer": "ipython3",
   "version": "3.8.15"
  }
 },
 "nbformat": 4,
 "nbformat_minor": 2
}
