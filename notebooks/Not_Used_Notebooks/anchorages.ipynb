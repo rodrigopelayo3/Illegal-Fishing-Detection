{
 "cells": [
  {
   "cell_type": "markdown",
   "metadata": {},
   "source": [
    "This notebook looks among the Anchorages Data Set of the global fishing watch **No further Investigation Research and experimentation.**"
   ]
  },
  {
   "cell_type": "code",
   "execution_count": 1,
   "metadata": {},
   "outputs": [],
   "source": [
    "import pandas as pd\n",
    "import numpy as np"
   ]
  },
  {
   "cell_type": "code",
   "execution_count": 13,
   "metadata": {},
   "outputs": [],
   "source": [
    "# Specify data types for columns with mixed types\n",
    "dtype_spec = {\n",
    "    'label': 'object',\n",
    "    'sublabel': 'object',\n",
    "    'iso3': 'object',\n",
    "    'label_source': 'object',\n",
    "    'distance_from_shore_m': 'float64',\n",
    "    'drift_radius': 'float64',\n",
    "    'at_dock': 'object',\n",
    "    'dock': 'object'\n",
    "}\n",
    "\n",
    "# Load the data\n",
    "anchorages19 = pd.read_csv('/Users/rodrigo/Desktop/BrainStation/Capstone/DATASETSDIF/Anchorages/named_anchorages_v1_20191205.csv', dtype=dtype_spec)\n",
    "anchorages20 = pd.read_csv('/Users/rodrigo/Desktop/BrainStation/Capstone/DATASETSDIF/Anchorages/named_anchorages_v2_20201104.csv', dtype=dtype_spec)\n",
    "anchorages22 = pd.read_csv('/Users/rodrigo/Desktop/BrainStation/Capstone/DATASETSDIF/Anchorages/named_anchorages_v2_20221206.csv', dtype=dtype_spec)\n"
   ]
  },
  {
   "cell_type": "code",
   "execution_count": 20,
   "metadata": {},
   "outputs": [
    {
     "name": "stdout",
     "output_type": "stream",
     "text": [
      "\n",
      "Anchorages 2018:\n",
      "       s2id        lat        lon     label     label_source iso3  \\\n",
      "0  3e4e429b  26.914042  52.220320   SHARJAH  top_destination  IRN   \n",
      "1  1a575de7  -7.715992  11.724560  BLOCK 17  top_destination  AGO   \n",
      "2  3fcf5295  29.642077  48.696705  KAZ IRAQ  top_destination  KWT   \n",
      "3  3fcf52bf  29.644148  48.701873  KAZ IRAQ  top_destination  KWT   \n",
      "4  3fcf52bd  29.639744  48.701769  UMM QASR  top_destination  KWT   \n",
      "\n",
      "   distance_from_shore_m  drift_radius   dock  \n",
      "0                63000.0      0.056322  FALSE  \n",
      "1               134000.0      0.111111  FALSE  \n",
      "2                33000.0      0.162583  FALSE  \n",
      "3                33000.0      0.161623  FALSE  \n",
      "4                33000.0      0.149964  FALSE  \n",
      "\n",
      "Missing values in Anchorages 2018:\n",
      "s2id                     0\n",
      "lat                      0\n",
      "lon                      0\n",
      "label                    0\n",
      "label_source             0\n",
      "iso3                     0\n",
      "distance_from_shore_m    0\n",
      "drift_radius             0\n",
      "dock                     1\n",
      "dtype: int64\n",
      "\n",
      "Data types in Anchorages 2018:\n",
      "s2id                      object\n",
      "lat                      float64\n",
      "lon                      float64\n",
      "label                     object\n",
      "label_source              object\n",
      "iso3                      object\n",
      "distance_from_shore_m    float64\n",
      "drift_radius             float64\n",
      "dock                      object\n",
      "dtype: object\n",
      "\n",
      "Anchorages 2019:\n",
      "       s2id       lat       lon label         label_source iso3  \\\n",
      "0  0fdf87f5  5.580215 -0.002372  TEMA  anchorage_overrides  GHA   \n",
      "1  0fdf8803  5.554219 -0.002303  TEMA  anchorage_overrides  GHA   \n",
      "2  0fdf87ff  5.564589 -0.002446  TEMA  anchorage_overrides  GHA   \n",
      "3  0fdf8789  5.589842 -0.001882  TEMA  anchorage_overrides  GHA   \n",
      "4  0fdf87f9  5.569384 -0.002153  TEMA  anchorage_overrides  GHA   \n",
      "\n",
      "   distance_from_shore_m  drift_radius   dock  \n",
      "0                 1000.0      0.086728  FALSE  \n",
      "1                 1000.0      0.106406  FALSE  \n",
      "2                 1000.0      0.101794  FALSE  \n",
      "3                 1000.0      0.082103  FALSE  \n",
      "4                 1000.0      0.089726  FALSE  \n",
      "\n",
      "Missing values in Anchorages 2019:\n",
      "s2id                      0\n",
      "lat                       0\n",
      "lon                       0\n",
      "label                     0\n",
      "label_source              0\n",
      "iso3                      0\n",
      "distance_from_shore_m     0\n",
      "drift_radius              0\n",
      "dock                     35\n",
      "dtype: int64\n",
      "\n",
      "Data types in Anchorages 2019:\n",
      "s2id                      object\n",
      "lat                      float64\n",
      "lon                      float64\n",
      "label                     object\n",
      "label_source              object\n",
      "iso3                      object\n",
      "distance_from_shore_m    float64\n",
      "drift_radius             float64\n",
      "dock                      object\n",
      "dtype: object\n",
      "\n",
      "Anchorages 2020:\n",
      "       s2id        lat         lon              label         label_source  \\\n",
      "0  477eac73  45.472335   12.448750            ITA-196  anchorage_overrides   \n",
      "1  3442a529  25.183666  121.403120  TAMSUI FISH WHARF  anchorage_overrides   \n",
      "2  3442a52f  25.184004  121.410104  TAMSUI FISH WHARF  anchorage_overrides   \n",
      "3  3442a4d5  25.189911  121.397634  TAMSUI FISH WHARF  anchorage_overrides   \n",
      "4  3442a4d7  25.184666  121.397444  TAMSUI FISH WHARF  anchorage_overrides   \n",
      "\n",
      "  iso3  distance_from_shore_m  drift_radius   dock  \n",
      "0  ITA                    0.0      0.063046   true  \n",
      "1  TWN                    0.0      0.154328   true  \n",
      "2  TWN                    0.0      0.059729   true  \n",
      "3  TWN                    0.0      0.172828  false  \n",
      "4  TWN                    0.0      0.175050  false  \n",
      "\n",
      "Missing values in Anchorages 2020:\n",
      "s2id                     0\n",
      "lat                      0\n",
      "lon                      0\n",
      "label                    0\n",
      "label_source             0\n",
      "iso3                     0\n",
      "distance_from_shore_m    0\n",
      "drift_radius             0\n",
      "dock                     0\n",
      "dtype: int64\n",
      "\n",
      "Data types in Anchorages 2020:\n",
      "s2id                      object\n",
      "lat                      float64\n",
      "lon                      float64\n",
      "label                     object\n",
      "label_source              object\n",
      "iso3                      object\n",
      "distance_from_shore_m    float64\n",
      "drift_radius             float64\n",
      "dock                      object\n",
      "dtype: object\n"
     ]
    }
   ],
   "source": [
    "# List of anchorages dataframes\n",
    "anchorages_dataframes = [anchorages19, anchorages20, anchorages22]\n",
    "\n",
    "# Inspect each dataframe\n",
    "for df, year in zip(anchorages_dataframes, ['2018', '2019', '2020', '2022']):\n",
    "    print(f\"\\nAnchorages {year}:\")\n",
    "    print(df.head())\n",
    "    print(f\"\\nMissing values in Anchorages {year}:\")\n",
    "    print(df.isnull().sum())\n",
    "    print(f\"\\nData types in Anchorages {year}:\")\n",
    "    print(df.dtypes)\n"
   ]
  },
  {
   "cell_type": "code",
   "execution_count": 22,
   "metadata": {},
   "outputs": [
    {
     "name": "stdout",
     "output_type": "stream",
     "text": [
      "\n",
      "Combined Anchorages DataFrame:\n",
      "<class 'pandas.core.frame.DataFrame'>\n",
      "RangeIndex: 499505 entries, 0 to 499504\n",
      "Data columns (total 9 columns):\n",
      " #   Column                 Non-Null Count   Dtype  \n",
      "---  ------                 --------------   -----  \n",
      " 0   s2id                   499505 non-null  object \n",
      " 1   lat                    499505 non-null  float64\n",
      " 2   lon                    499505 non-null  float64\n",
      " 3   label                  499505 non-null  object \n",
      " 4   label_source           499505 non-null  object \n",
      " 5   iso3                   499505 non-null  object \n",
      " 6   distance_from_shore_m  499505 non-null  float64\n",
      " 7   drift_radius           499505 non-null  float64\n",
      " 8   dock                   499505 non-null  object \n",
      "dtypes: float64(4), object(5)\n",
      "memory usage: 34.3+ MB\n",
      "None\n",
      "       s2id        lat        lon     label     label_source iso3  \\\n",
      "0  3e4e429b  26.914042  52.220320   SHARJAH  top_destination  IRN   \n",
      "1  1a575de7  -7.715992  11.724560  BLOCK 17  top_destination  AGO   \n",
      "2  3fcf5295  29.642077  48.696705  KAZ IRAQ  top_destination  KWT   \n",
      "3  3fcf52bf  29.644148  48.701873  KAZ IRAQ  top_destination  KWT   \n",
      "4  3fcf52bd  29.639744  48.701769  UMM QASR  top_destination  KWT   \n",
      "\n",
      "   distance_from_shore_m  drift_radius   dock  \n",
      "0                63000.0      0.056322  FALSE  \n",
      "1               134000.0      0.111111  FALSE  \n",
      "2                33000.0      0.162583  FALSE  \n",
      "3                33000.0      0.161623  FALSE  \n",
      "4                33000.0      0.149964  FALSE  \n",
      "\n",
      "Data saved to 'integrated_anchorages_data.csv'\n"
     ]
    }
   ],
   "source": [
    "# Function to fill missing values and drop sublabel\n",
    "def fill_missing_values_and_drop_sublabel(df):\n",
    "    #df.drop(columns=['sublabel'], inplace=True)\n",
    "    df['label'].fillna('Unknown', inplace=True)\n",
    "    df['iso3'].fillna('Unknown', inplace=True)\n",
    "    \n",
    "    # Fill missing values if the column exists\n",
    "    if 'distance_from_shore_m' in df.columns:\n",
    "        df['distance_from_shore_m'].fillna(df['distance_from_shore_m'].median(), inplace=True)\n",
    "    if 'drift_radius' in df.columns:\n",
    "        df['drift_radius'].fillna(df['drift_radius'].median(), inplace=True)\n",
    "    if 'dock' in df.columns:\n",
    "        df['dock'].fillna(df['dock'].mode()[0], inplace=True)\n",
    "\n",
    "# Apply the function to each dataframe\n",
    "for df in [anchorages19, anchorages20, anchorages22]:\n",
    "    fill_missing_values_and_drop_sublabel(df)\n",
    "\n",
    "# Standardize the schema: Ensure all columns are consistent\n",
    "for df in [anchorages19, anchorages20, anchorages22]:\n",
    "    df.columns = ['s2id', 'lat', 'lon', 'label', 'label_source', 'iso3', 'distance_from_shore_m', 'drift_radius', 'dock']\n",
    "\n",
    "# Merge all dataframes into one\n",
    "df_anchorages_combined = pd.concat([anchorages19, anchorages20, anchorages22], ignore_index=True)\n",
    "\n",
    "# Check the combined dataframe\n",
    "print(\"\\nCombined Anchorages DataFrame:\")\n",
    "print(df_anchorages_combined.info())\n",
    "print(df_anchorages_combined.head())\n",
    "\n",
    "# Save the cleaned and combined dataset\n",
    "df_anchorages_combined.to_csv('/Users/rodrigo/Desktop/BrainStation/Capstone/DATASETSDIF/integrated_anchorages_data1.csv', index=False)\n",
    "print(\"\\nData saved to 'integrated_anchorages_data.csv'\")\n"
   ]
  },
  {
   "cell_type": "code",
   "execution_count": 12,
   "metadata": {},
   "outputs": [
    {
     "name": "stdout",
     "output_type": "stream",
     "text": [
      "Columns in Anchorages 2018: Index(['s2id', 'label', 'iso3', 'lat', 'lon', 'anchorage_group'], dtype='object')\n",
      "Columns in Anchorages 2019: Index(['s2id', 'lat', 'lon', 'label', 'sublabel', 'label_source', 'iso3',\n",
      "       'distance_from_shore_m', 'drift_radius', 'at_dock'],\n",
      "      dtype='object')\n",
      "Columns in Anchorages 2020: Index(['s2id', 'lat', 'lon', 'label', 'sublabel', 'label_source', 'iso3',\n",
      "       'distance_from_shore_m', 'drift_radius', 'at_dock'],\n",
      "      dtype='object')\n",
      "Columns in Anchorages 2022: Index(['s2id', 'lat', 'lon', 'label', 'sublabel', 'label_source', 'iso3',\n",
      "       'distance_from_shore_m', 'drift_radius', 'dock'],\n",
      "      dtype='object')\n"
     ]
    }
   ],
   "source": [
    "# Inspect column names in each dataframe\n",
    "print(\"Columns in Anchorages 2018:\", anchorages18.columns)\n",
    "print(\"Columns in Anchorages 2019:\", anchorages19.columns)\n",
    "print(\"Columns in Anchorages 2020:\", anchorages20.columns)\n",
    "print(\"Columns in Anchorages 2022:\", anchorages22.columns)\n"
   ]
  },
  {
   "cell_type": "code",
   "execution_count": 5,
   "metadata": {},
   "outputs": [
    {
     "data": {
      "text/plain": [
       "Index(['s2id', 'label', 'sublabel', 'iso3', 'lat', 'lon', 'anchorage_group',\n",
       "       'label_source', 'distance_from_shore_m', 'drift_radius', 'at_dock',\n",
       "       'dock'],\n",
       "      dtype='object')"
      ]
     },
     "execution_count": 5,
     "metadata": {},
     "output_type": "execute_result"
    }
   ],
   "source": [
    "df_anchorages.columns"
   ]
  },
  {
   "cell_type": "code",
   "execution_count": 6,
   "metadata": {},
   "outputs": [
    {
     "name": "stdout",
     "output_type": "stream",
     "text": [
      "<class 'pandas.core.frame.DataFrame'>\n",
      "RangeIndex: 619253 entries, 0 to 619252\n",
      "Data columns (total 12 columns):\n",
      " #   Column                 Non-Null Count   Dtype  \n",
      "---  ------                 --------------   -----  \n",
      " 0   s2id                   619253 non-null  object \n",
      " 1   label                  619239 non-null  object \n",
      " 2   sublabel               175538 non-null  object \n",
      " 3   iso3                   619232 non-null  object \n",
      " 4   lat                    619253 non-null  float64\n",
      " 5   lon                    619253 non-null  float64\n",
      " 6   anchorage_group        119748 non-null  object \n",
      " 7   label_source           499505 non-null  object \n",
      " 8   distance_from_shore_m  499430 non-null  float64\n",
      " 9   drift_radius           499021 non-null  float64\n",
      " 10  at_dock                332987 non-null  object \n",
      " 11  dock                   166462 non-null  object \n",
      "dtypes: float64(4), object(8)\n",
      "memory usage: 56.7+ MB\n"
     ]
    }
   ],
   "source": [
    "df_anchorages.info()"
   ]
  },
  {
   "cell_type": "code",
   "execution_count": 7,
   "metadata": {},
   "outputs": [
    {
     "data": {
      "text/plain": [
       "s2id                          0\n",
       "label                        14\n",
       "sublabel                 443715\n",
       "iso3                         21\n",
       "lat                           0\n",
       "lon                           0\n",
       "anchorage_group          499505\n",
       "label_source             119748\n",
       "distance_from_shore_m    119823\n",
       "drift_radius             120232\n",
       "at_dock                  286266\n",
       "dock                     452791\n",
       "dtype: int64"
      ]
     },
     "execution_count": 7,
     "metadata": {},
     "output_type": "execute_result"
    }
   ],
   "source": [
    "df_anchorages.isna().sum()"
   ]
  },
  {
   "cell_type": "code",
   "execution_count": 8,
   "metadata": {},
   "outputs": [
    {
     "data": {
      "text/plain": [
       "(619253, 12)"
      ]
     },
     "execution_count": 8,
     "metadata": {},
     "output_type": "execute_result"
    }
   ],
   "source": [
    "df_anchorages.shape"
   ]
  },
  {
   "cell_type": "code",
   "execution_count": 9,
   "metadata": {},
   "outputs": [],
   "source": [
    "df_anchorages = df_anchorages.dropna(subset=['lat', 'lon'])"
   ]
  },
  {
   "cell_type": "code",
   "execution_count": 10,
   "metadata": {},
   "outputs": [
    {
     "data": {
      "text/plain": [
       "s2id                          0\n",
       "label                        14\n",
       "sublabel                 443715\n",
       "iso3                         21\n",
       "lat                           0\n",
       "lon                           0\n",
       "anchorage_group          499505\n",
       "label_source             119748\n",
       "distance_from_shore_m    119823\n",
       "drift_radius             120232\n",
       "at_dock                  286266\n",
       "dock                     452791\n",
       "dtype: int64"
      ]
     },
     "execution_count": 10,
     "metadata": {},
     "output_type": "execute_result"
    }
   ],
   "source": [
    "df_anchorages.isna().sum()"
   ]
  },
  {
   "cell_type": "markdown",
   "metadata": {},
   "source": [
    "We will now save it to a csv file and use it later to merge it with ais \n",
    "\n"
   ]
  },
  {
   "cell_type": "code",
   "execution_count": 12,
   "metadata": {},
   "outputs": [],
   "source": [
    "# Last thing we will need to save the data into an csv file\n",
    "df_anchorages.to_csv('/Users/rodrigo/Desktop/BrainStation/Capstone/DATASETSDIF/Anchorages/anchorages.csv',index=False)"
   ]
  },
  {
   "cell_type": "code",
   "execution_count": 11,
   "metadata": {},
   "outputs": [
    {
     "name": "stderr",
     "output_type": "stream",
     "text": [
      "/var/folders/l6/y3yp21nx7kd30l7gkqfxc1km0000gn/T/ipykernel_7308/415284339.py:1: DtypeWarning: Columns (6,7,10,11) have mixed types. Specify dtype option on import or set low_memory=False.\n",
      "  df = pd.read_csv('/Users/rodrigo/Desktop/BrainStation/Capstone/DATASETSDIF/Anchorages/anchorages.csv')\n"
     ]
    }
   ],
   "source": [
    "df = pd.read_csv('/Users/rodrigo/Desktop/BrainStation/Capstone/DATASETSDIF/Anchorages/anchorages.csv')"
   ]
  },
  {
   "cell_type": "code",
   "execution_count": 12,
   "metadata": {},
   "outputs": [
    {
     "data": {
      "text/html": [
       "<div>\n",
       "<style scoped>\n",
       "    .dataframe tbody tr th:only-of-type {\n",
       "        vertical-align: middle;\n",
       "    }\n",
       "\n",
       "    .dataframe tbody tr th {\n",
       "        vertical-align: top;\n",
       "    }\n",
       "\n",
       "    .dataframe thead th {\n",
       "        text-align: right;\n",
       "    }\n",
       "</style>\n",
       "<table border=\"1\" class=\"dataframe\">\n",
       "  <thead>\n",
       "    <tr style=\"text-align: right;\">\n",
       "      <th></th>\n",
       "      <th>s2id</th>\n",
       "      <th>label</th>\n",
       "      <th>sublabel</th>\n",
       "      <th>iso3</th>\n",
       "      <th>lat</th>\n",
       "      <th>lon</th>\n",
       "      <th>anchorage_group</th>\n",
       "      <th>label_source</th>\n",
       "      <th>distance_from_shore_m</th>\n",
       "      <th>drift_radius</th>\n",
       "      <th>at_dock</th>\n",
       "      <th>dock</th>\n",
       "    </tr>\n",
       "  </thead>\n",
       "  <tbody>\n",
       "    <tr>\n",
       "      <th>0</th>\n",
       "      <td>89c28329</td>\n",
       "      <td>0R</td>\n",
       "      <td>NaN</td>\n",
       "      <td>USA</td>\n",
       "      <td>40.878103</td>\n",
       "      <td>-73.516031</td>\n",
       "      <td>5155</td>\n",
       "      <td>NaN</td>\n",
       "      <td>NaN</td>\n",
       "      <td>NaN</td>\n",
       "      <td>NaN</td>\n",
       "      <td>NaN</td>\n",
       "    </tr>\n",
       "    <tr>\n",
       "      <th>1</th>\n",
       "      <td>89c7939b</td>\n",
       "      <td>0R</td>\n",
       "      <td>NaN</td>\n",
       "      <td>USA</td>\n",
       "      <td>39.369316</td>\n",
       "      <td>-76.029973</td>\n",
       "      <td>5168</td>\n",
       "      <td>NaN</td>\n",
       "      <td>NaN</td>\n",
       "      <td>NaN</td>\n",
       "      <td>NaN</td>\n",
       "      <td>NaN</td>\n",
       "    </tr>\n",
       "    <tr>\n",
       "      <th>2</th>\n",
       "      <td>89e826ed</td>\n",
       "      <td>0R</td>\n",
       "      <td>NaN</td>\n",
       "      <td>USA</td>\n",
       "      <td>40.919673</td>\n",
       "      <td>-73.398545</td>\n",
       "      <td>5224</td>\n",
       "      <td>NaN</td>\n",
       "      <td>NaN</td>\n",
       "      <td>NaN</td>\n",
       "      <td>NaN</td>\n",
       "      <td>NaN</td>\n",
       "    </tr>\n",
       "    <tr>\n",
       "      <th>3</th>\n",
       "      <td>89006359</td>\n",
       "      <td>0R</td>\n",
       "      <td>NaN</td>\n",
       "      <td>USA</td>\n",
       "      <td>33.801497</td>\n",
       "      <td>-78.746408</td>\n",
       "      <td>89006359</td>\n",
       "      <td>NaN</td>\n",
       "      <td>NaN</td>\n",
       "      <td>NaN</td>\n",
       "      <td>NaN</td>\n",
       "      <td>NaN</td>\n",
       "    </tr>\n",
       "    <tr>\n",
       "      <th>4</th>\n",
       "      <td>88fe7eb3</td>\n",
       "      <td>4E</td>\n",
       "      <td>NaN</td>\n",
       "      <td>USA</td>\n",
       "      <td>32.754622</td>\n",
       "      <td>-80.011341</td>\n",
       "      <td>5056</td>\n",
       "      <td>NaN</td>\n",
       "      <td>NaN</td>\n",
       "      <td>NaN</td>\n",
       "      <td>NaN</td>\n",
       "      <td>NaN</td>\n",
       "    </tr>\n",
       "  </tbody>\n",
       "</table>\n",
       "</div>"
      ],
      "text/plain": [
       "       s2id label sublabel iso3        lat        lon anchorage_group  \\\n",
       "0  89c28329    0R      NaN  USA  40.878103 -73.516031            5155   \n",
       "1  89c7939b    0R      NaN  USA  39.369316 -76.029973            5168   \n",
       "2  89e826ed    0R      NaN  USA  40.919673 -73.398545            5224   \n",
       "3  89006359    0R      NaN  USA  33.801497 -78.746408        89006359   \n",
       "4  88fe7eb3    4E      NaN  USA  32.754622 -80.011341            5056   \n",
       "\n",
       "  label_source  distance_from_shore_m  drift_radius at_dock dock  \n",
       "0          NaN                    NaN           NaN     NaN  NaN  \n",
       "1          NaN                    NaN           NaN     NaN  NaN  \n",
       "2          NaN                    NaN           NaN     NaN  NaN  \n",
       "3          NaN                    NaN           NaN     NaN  NaN  \n",
       "4          NaN                    NaN           NaN     NaN  NaN  "
      ]
     },
     "execution_count": 12,
     "metadata": {},
     "output_type": "execute_result"
    }
   ],
   "source": [
    "df.head()"
   ]
  },
  {
   "cell_type": "code",
   "execution_count": null,
   "metadata": {},
   "outputs": [],
   "source": []
  }
 ],
 "metadata": {
  "kernelspec": {
   "display_name": "capstone",
   "language": "python",
   "name": "python3"
  },
  "language_info": {
   "codemirror_mode": {
    "name": "ipython",
    "version": 3
   },
   "file_extension": ".py",
   "mimetype": "text/x-python",
   "name": "python",
   "nbconvert_exporter": "python",
   "pygments_lexer": "ipython3",
   "version": "3.8.15"
  }
 },
 "nbformat": 4,
 "nbformat_minor": 2
}
